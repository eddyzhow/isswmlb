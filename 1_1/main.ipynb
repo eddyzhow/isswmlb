{
 "cells": [
  {
   "cell_type": "code",
   "execution_count": 1,
   "metadata": {},
   "outputs": [],
   "source": [
    "import json\n",
    "from typing import List\n",
    "\n",
    "import faiss\n",
    "import numpy as np\n",
    "import torch\n",
    "from transformers import AutoTokenizer, AutoModel"
   ]
  },
  {
   "cell_type": "code",
   "execution_count": 2,
   "metadata": {},
   "outputs": [],
   "source": [
    "with open(\"sentences.json\") as f:\n",
    "    sentenses = json.load(f)\n",
    "\n",
    "with open(\"questions.json\") as f:\n",
    "    questions = json.load(f)"
   ]
  },
  {
   "cell_type": "code",
   "execution_count": 3,
   "metadata": {},
   "outputs": [],
   "source": [
    "quantizer = faiss.IndexFlatIP(768)\n",
    "index = faiss.IndexIDMap(quantizer)"
   ]
  },
  {
   "cell_type": "code",
   "execution_count": 4,
   "metadata": {},
   "outputs": [
    {
     "name": "stderr",
     "output_type": "stream",
     "text": [
      "Some weights of the model checkpoint at distilbert-base-uncased were not used when initializing DistilBertModel: ['vocab_transform.bias', 'vocab_transform.weight', 'vocab_layer_norm.weight', 'vocab_projector.weight', 'vocab_projector.bias', 'vocab_layer_norm.bias']\n",
      "- This IS expected if you are initializing DistilBertModel from the checkpoint of a model trained on another task or with another architecture (e.g. initializing a BertForSequenceClassification model from a BertForPreTraining model).\n",
      "- This IS NOT expected if you are initializing DistilBertModel from the checkpoint of a model that you expect to be exactly identical (initializing a BertForSequenceClassification model from a BertForSequenceClassification model).\n"
     ]
    }
   ],
   "source": [
    "checkpoint = \"distilbert-base-uncased\"\n",
    "tokenizer = AutoTokenizer.from_pretrained(checkpoint)\n",
    "model = AutoModel.from_pretrained(checkpoint)\n",
    "\n",
    "def encode(sentense: str) -> torch.Tensor:\n",
    "    tokens = tokenizer(sentense, return_tensors=\"pt\")\n",
    "    vector = model(**tokens)[0].detach().squeeze()\n",
    "    return torch.mean(vector, dim=0)"
   ]
  },
  {
   "cell_type": "code",
   "execution_count": 5,
   "metadata": {},
   "outputs": [],
   "source": [
    "index.add_with_ids(np.array([encode(s).numpy() for s in sentenses]), np.array(range(0, len(sentenses))))"
   ]
  },
  {
   "cell_type": "code",
   "execution_count": 6,
   "metadata": {},
   "outputs": [],
   "source": [
    "def search(query: str) -> List[str]:\n",
    "    encoded_query = encode(query).unsqueeze(dim=0).numpy()\n",
    "    top_k = index.search(encoded_query, 5)\n",
    "    return [sentenses[k] for k in top_k[1][0]]"
   ]
  },
  {
   "cell_type": "code",
   "execution_count": 11,
   "metadata": {},
   "outputs": [
    {
     "name": "stdout",
     "output_type": "stream",
     "text": [
      "Question:\n",
      "How many people have died during Black Death?\n",
      "Answers:\n",
      "As of 2018, approximately 37.9 million people are infected with HIV globally.  \n",
      "A pandemic is an epidemic of an infectious disease that has spread across a large region, for instance multiple continents or worldwide, affecting a substantial number of people.  \n",
      "The death toll of Spanish Flu is estimated to have been somewhere between 17 million and 50 million, and possibly as high as 100 million, making it one of the deadliest pandemics in human history.  \n",
      "The most fatal pandemic in recorded history was the Black Death (also known as The Plague), which killed an estimated 75–200 million people in the 14th century.  \n",
      "The Spanish flu, also known as the 1918 flu pandemic, was an unusually deadly influenza pandemic caused by the H1N1 influenza A virus.\n",
      "-----\n",
      "Question:\n",
      "Which diseases can be transmitted by animals?\n",
      "Answers:\n",
      "A pandemic is an epidemic of an infectious disease that has spread across a large region, for instance multiple continents or worldwide, affecting a substantial number of people.  \n",
      "Cholera is an infection of the small intestine by some strains of the bacterium Vibrio cholerae.  \n",
      "Current pandemics include COVID-19 (SARS-CoV-2) and HIV/AIDS.  \n",
      "As of 2018, approximately 37.9 million people are infected with HIV globally.  \n",
      "The Spanish flu, also known as the 1918 flu pandemic, was an unusually deadly influenza pandemic caused by the H1N1 influenza A virus.\n",
      "-----\n",
      "Question:\n",
      "Connection between climate change and a likelihood of a pandemic\n",
      "Answers:\n",
      "A pandemic is an epidemic of an infectious disease that has spread across a large region, for instance multiple continents or worldwide, affecting a substantial number of people.  \n",
      "The Spanish flu, also known as the 1918 flu pandemic, was an unusually deadly influenza pandemic caused by the H1N1 influenza A virus.  \n",
      "The death toll of Spanish Flu is estimated to have been somewhere between 17 million and 50 million, and possibly as high as 100 million, making it one of the deadliest pandemics in human history.  \n",
      "Current pandemics include COVID-19 (SARS-CoV-2) and HIV/AIDS.  \n",
      "As of 2018, approximately 37.9 million people are infected with HIV globally.\n",
      "-----\n",
      "Question:\n",
      "What is an example of a latent virus\n",
      "Answers:\n",
      "A pandemic is an epidemic of an infectious disease that has spread across a large region, for instance multiple continents or worldwide, affecting a substantial number of people.  \n",
      "Current pandemics include COVID-19 (SARS-CoV-2) and HIV/AIDS.  \n",
      "The Spanish flu, also known as the 1918 flu pandemic, was an unusually deadly influenza pandemic caused by the H1N1 influenza A virus.  \n",
      "Cholera is an infection of the small intestine by some strains of the bacterium Vibrio cholerae.  \n",
      "The COVID-19 pandemic, also known as the coronavirus pandemic, is an ongoing pandemic of coronavirus disease 2019 (COVID-19) caused by severe acute respiratory syndrome coronavirus 2 (SARS-CoV-2).\n",
      "-----\n",
      "Question:\n",
      "Viruses in nanotechnology\n",
      "Answers:\n",
      "Current pandemics include COVID-19 (SARS-CoV-2) and HIV/AIDS.  \n",
      "A pandemic is an epidemic of an infectious disease that has spread across a large region, for instance multiple continents or worldwide, affecting a substantial number of people.  \n",
      "Cholera is an infection of the small intestine by some strains of the bacterium Vibrio cholerae.  \n",
      "As of 2018, approximately 37.9 million people are infected with HIV globally.  \n",
      "The Spanish flu, also known as the 1918 flu pandemic, was an unusually deadly influenza pandemic caused by the H1N1 influenza A virus.\n",
      "-----\n",
      "Question:\n",
      "Giant viruses classification\n",
      "Answers:\n",
      "Current pandemics include COVID-19 (SARS-CoV-2) and HIV/AIDS.  \n",
      "Cholera is an infection of the small intestine by some strains of the bacterium Vibrio cholerae.  \n",
      "The Spanish flu, also known as the 1918 flu pandemic, was an unusually deadly influenza pandemic caused by the H1N1 influenza A virus.  \n",
      "The COVID-19 pandemic, also known as the coronavirus pandemic, is an ongoing pandemic of coronavirus disease 2019 (COVID-19) caused by severe acute respiratory syndrome coronavirus 2 (SARS-CoV-2).  \n",
      "A pandemic is an epidemic of an infectious disease that has spread across a large region, for instance multiple continents or worldwide, affecting a substantial number of people.\n",
      "-----\n",
      "Question:\n",
      "What are the notable pandemic prevention organizations?\n",
      "Answers:\n",
      "A pandemic is an epidemic of an infectious disease that has spread across a large region, for instance multiple continents or worldwide, affecting a substantial number of people.  \n",
      "As of 2018, approximately 37.9 million people are infected with HIV globally.  \n",
      "The Spanish flu, also known as the 1918 flu pandemic, was an unusually deadly influenza pandemic caused by the H1N1 influenza A virus.  \n",
      "Current pandemics include COVID-19 (SARS-CoV-2) and HIV/AIDS.  \n",
      "The death toll of Spanish Flu is estimated to have been somewhere between 17 million and 50 million, and possibly as high as 100 million, making it one of the deadliest pandemics in human history.\n",
      "-----\n",
      "Question:\n",
      "How many leprosy outbreaks are known to happen?\n",
      "Answers:\n",
      "A pandemic is an epidemic of an infectious disease that has spread across a large region, for instance multiple continents or worldwide, affecting a substantial number of people.  \n",
      "As of 2018, approximately 37.9 million people are infected with HIV globally.  \n",
      "The Spanish flu, also known as the 1918 flu pandemic, was an unusually deadly influenza pandemic caused by the H1N1 influenza A virus.  \n",
      "Current pandemics include COVID-19 (SARS-CoV-2) and HIV/AIDS.  \n",
      "Classic cholera symptom is large amounts of watery diarrhea that lasts a few days. Vomiting and muscle cramps may also occur. Diarrhea can be so severe that it leads within hours to severe dehydration and electrolyte imbalance.\n",
      "-----\n",
      "Question:\n",
      "What are the geographic areas with the highest transmission of malaria?\n",
      "Answers:\n",
      "A pandemic is an epidemic of an infectious disease that has spread across a large region, for instance multiple continents or worldwide, affecting a substantial number of people.  \n",
      "As of 2018, approximately 37.9 million people are infected with HIV globally.  \n",
      "The death toll of Spanish Flu is estimated to have been somewhere between 17 million and 50 million, and possibly as high as 100 million, making it one of the deadliest pandemics in human history.  \n",
      "The Spanish flu, also known as the 1918 flu pandemic, was an unusually deadly influenza pandemic caused by the H1N1 influenza A virus.  \n",
      "Current pandemics include COVID-19 (SARS-CoV-2) and HIV/AIDS.\n",
      "-----\n",
      "Question:\n",
      "How to prevent the spread of viral infections?\n",
      "Answers:\n",
      "A pandemic is an epidemic of an infectious disease that has spread across a large region, for instance multiple continents or worldwide, affecting a substantial number of people.  \n",
      "As of 2018, approximately 37.9 million people are infected with HIV globally.  \n",
      "Current pandemics include COVID-19 (SARS-CoV-2) and HIV/AIDS.  \n",
      "Cholera is an infection of the small intestine by some strains of the bacterium Vibrio cholerae.  \n",
      "The Spanish flu, also known as the 1918 flu pandemic, was an unusually deadly influenza pandemic caused by the H1N1 influenza A virus.\n",
      "-----\n"
     ]
    }
   ],
   "source": [
    "for q in questions:\n",
    "    print(f\"Question:\")\n",
    "    print(q)\n",
    "    print(\"Answers:\")\n",
    "    print(\"  \\n\".join(search(q)))\n",
    "    print(\"-----\")"
   ]
  }
 ],
 "metadata": {
  "interpreter": {
   "hash": "1eb57119ca76110e69428b5aa56c21a8a03a9f8fbb9eed1095bbd01ea9a20642"
  },
  "kernelspec": {
   "display_name": "Python 3.8.12 64-bit ('searchenv': conda)",
   "language": "python",
   "name": "python3"
  },
  "language_info": {
   "codemirror_mode": {
    "name": "ipython",
    "version": 3
   },
   "file_extension": ".py",
   "mimetype": "text/x-python",
   "name": "python",
   "nbconvert_exporter": "python",
   "pygments_lexer": "ipython3",
   "version": "3.8.12"
  },
  "orig_nbformat": 4
 },
 "nbformat": 4,
 "nbformat_minor": 2
}
